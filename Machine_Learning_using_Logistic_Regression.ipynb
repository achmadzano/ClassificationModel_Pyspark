{
  "nbformat": 4,
  "nbformat_minor": 0,
  "metadata": {
    "colab": {
      "provenance": [],
      "authorship_tag": "ABX9TyMadUp9XvM3ehUqUc64VJbk",
      "include_colab_link": true
    },
    "kernelspec": {
      "name": "python3",
      "display_name": "Python 3"
    },
    "language_info": {
      "name": "python"
    }
  },
  "cells": [
    {
      "cell_type": "markdown",
      "metadata": {
        "id": "view-in-github",
        "colab_type": "text"
      },
      "source": [
        "<a href=\"https://colab.research.google.com/github/achmadzano/Machine-Learning/blob/main/Machine_Learning_using_Logistic_Regression.ipynb\" target=\"_parent\"><img src=\"https://colab.research.google.com/assets/colab-badge.svg\" alt=\"Open In Colab\"/></a>"
      ]
    },
    {
      "cell_type": "code",
      "execution_count": 1,
      "metadata": {
        "colab": {
          "base_uri": "https://localhost:8080/"
        },
        "id": "_7vGhKDghHsD",
        "outputId": "e1a4a966-5b24-4ee0-92ca-758d079c50f3"
      },
      "outputs": [
        {
          "output_type": "stream",
          "name": "stdout",
          "text": [
            "Collecting pyspark\n",
            "  Downloading pyspark-3.4.1.tar.gz (310.8 MB)\n",
            "\u001b[2K     \u001b[90m━━━━━━━━━━━━━━━━━━━━━━━━━━━━━━━━━━━━━━━\u001b[0m \u001b[32m310.8/310.8 MB\u001b[0m \u001b[31m3.2 MB/s\u001b[0m eta \u001b[36m0:00:00\u001b[0m\n",
            "\u001b[?25h  Preparing metadata (setup.py) ... \u001b[?25l\u001b[?25hdone\n",
            "Requirement already satisfied: py4j==0.10.9.7 in /usr/local/lib/python3.10/dist-packages (from pyspark) (0.10.9.7)\n",
            "Building wheels for collected packages: pyspark\n",
            "  Building wheel for pyspark (setup.py) ... \u001b[?25l\u001b[?25hdone\n",
            "  Created wheel for pyspark: filename=pyspark-3.4.1-py2.py3-none-any.whl size=311285387 sha256=5415485f958563234c72d190743d0fdb48ebf39add920d0399cb4a979ced92ab\n",
            "  Stored in directory: /root/.cache/pip/wheels/0d/77/a3/ff2f74cc9ab41f8f594dabf0579c2a7c6de920d584206e0834\n",
            "Successfully built pyspark\n",
            "Installing collected packages: pyspark\n",
            "Successfully installed pyspark-3.4.1\n"
          ]
        }
      ],
      "source": [
        "!pip install pyspark"
      ]
    },
    {
      "cell_type": "code",
      "source": [
        "from pyspark.sql import SparkSession\n",
        "spark = SparkSession.builder\\\n",
        "        .master(\"local\")\\\n",
        "        .appName(\"Colab\")\\\n",
        "        .getOrCreate()\n",
        "spark"
      ],
      "metadata": {
        "colab": {
          "base_uri": "https://localhost:8080/",
          "height": 219
        },
        "id": "Asa1bfb3hLLy",
        "outputId": "ba5f4759-9148-4429-b6ca-1203e2f19425"
      },
      "execution_count": 2,
      "outputs": [
        {
          "output_type": "execute_result",
          "data": {
            "text/plain": [
              "<pyspark.sql.session.SparkSession at 0x7c44ac0d0910>"
            ],
            "text/html": [
              "\n",
              "            <div>\n",
              "                <p><b>SparkSession - in-memory</b></p>\n",
              "                \n",
              "        <div>\n",
              "            <p><b>SparkContext</b></p>\n",
              "\n",
              "            <p><a href=\"http://9599a332c48c:4040\">Spark UI</a></p>\n",
              "\n",
              "            <dl>\n",
              "              <dt>Version</dt>\n",
              "                <dd><code>v3.4.1</code></dd>\n",
              "              <dt>Master</dt>\n",
              "                <dd><code>local</code></dd>\n",
              "              <dt>AppName</dt>\n",
              "                <dd><code>Colab</code></dd>\n",
              "            </dl>\n",
              "        </div>\n",
              "        \n",
              "            </div>\n",
              "        "
            ]
          },
          "metadata": {},
          "execution_count": 2
        }
      ]
    },
    {
      "cell_type": "code",
      "source": [
        "import pyspark.sql  as pyspark_sql\n",
        "from pyspark.sql.functions import when\n",
        "from pyspark.ml.classification import LogisticRegression\n",
        "from pyspark.ml.feature import StandardScaler, VectorAssembler\n",
        "from pyspark.ml.evaluation import BinaryClassificationEvaluator"
      ],
      "metadata": {
        "id": "rjNgIhxbhhuS"
      },
      "execution_count": 3,
      "outputs": []
    },
    {
      "cell_type": "code",
      "source": [
        "# spark\n",
        "\n",
        "spark = pyspark_sql.SparkSession.builder.getOrCreate()\n",
        "\n",
        "# load data\n",
        "df_train = spark.read.option('inferSchema', 'true').csv('PlaneDelayTraining.csv', header=True)\n",
        "df_test = spark.read.option('inferSchema', 'true').csv('PlaneDelayTesting.csv', header=True)\n",
        "\n",
        "# preprocessing\n",
        "df_train = df_train.na.drop()\n",
        "df_test = df_test.na.drop()\n",
        "\n",
        "# select feature\n",
        "df_train = df_train.select('TimeDeparture', 'LengthOfFlight', 'Airline', 'IsDelayed')\n",
        "df_test = df_test.select('TimeDeparture', 'LengthOfFlight', 'Airline', 'IsDelayed')\n",
        "\n",
        "# transform\n",
        "\n",
        "def transform(df):\n",
        "    df = df.withColumn('Airline', when(df['Airline']=='DL', 0).when(df['Airline']=='FL',1).when(df['Airline']=='EV', 2))\n",
        "    return df\n",
        "\n",
        "df_train = transform(df_train)\n",
        "df_test = transform(df_test)\n",
        "\n",
        "# normalize\n",
        "cols = df_train.columns\n",
        "cols.remove('IsDelayed')\n",
        "\n",
        "assembler = VectorAssembler(inputCols=cols, outputCol='Features')\n",
        "scaler = StandardScaler(inputCol='Features', outputCol='ScaledFeatures')\n",
        "\n",
        "df_train = assembler.transform(df_train)\n",
        "df_train = scaler.fit(df_train).transform(df_train)\n",
        "\n",
        "df_test = assembler.transform(df_test)\n",
        "df_test = scaler.fit(df_test).transform(df_test)\n",
        "\n",
        "# generate model\n",
        "model = LogisticRegression(featuresCol='ScaledFeatures', labelCol='IsDelayed').fit(df_train)\n",
        "prediction = model.transform(df_test)\n",
        "\n",
        "# evaluate\n",
        "evaluator = BinaryClassificationEvaluator(labelCol='IsDelayed')\n",
        "accuracy = round(evaluator.evaluate(prediction)*100, 2)\n",
        "print(accuracy, '%')"
      ],
      "metadata": {
        "colab": {
          "base_uri": "https://localhost:8080/"
        },
        "id": "Sl7oNXFqhkeR",
        "outputId": "9274b6d9-b81c-4bd9-ed87-4d491fb604f8"
      },
      "execution_count": 6,
      "outputs": [
        {
          "output_type": "stream",
          "name": "stdout",
          "text": [
            "81.47 %\n"
          ]
        }
      ]
    }
  ]
}