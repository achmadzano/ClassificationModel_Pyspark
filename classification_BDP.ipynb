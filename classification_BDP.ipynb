{
  "nbformat": 4,
  "nbformat_minor": 0,
  "metadata": {
    "colab": {
      "provenance": [],
      "authorship_tag": "ABX9TyPRMVSrwEXDhFwNMy+JUSXR",
      "include_colab_link": true
    },
    "kernelspec": {
      "name": "python3",
      "display_name": "Python 3"
    },
    "language_info": {
      "name": "python"
    }
  },
  "cells": [
    {
      "cell_type": "markdown",
      "metadata": {
        "id": "view-in-github",
        "colab_type": "text"
      },
      "source": [
        "<a href=\"https://colab.research.google.com/github/achmadzano/ClassificationModel_Pyspark/blob/main/classification_BDP.ipynb\" target=\"_parent\"><img src=\"https://colab.research.google.com/assets/colab-badge.svg\" alt=\"Open In Colab\"/></a>"
      ]
    },
    {
      "cell_type": "code",
      "execution_count": null,
      "metadata": {
        "id": "CSYlypq6y5xp"
      },
      "outputs": [],
      "source": [
        "from pyspark.sql import SparkSession\n",
        "from pyspark.sql.functions import when\n",
        "from pyspark.ml.classification import LogisticRegression\n",
        "from pyspark.ml.feature import StandardScaler, VectorAssembler\n",
        "from pyspark.ml.evaluation import BinaryClassificationEvaluator"
      ]
    },
    {
      "cell_type": "code",
      "source": [
        "# spark\n",
        "spark = SparkSession.builder.getOrCreate()\n",
        "\n",
        "# load data\n",
        "df_train = spark.read.option('inferSchema', 'true').csv('PlaneDelayTraining.csv', header=True)\n",
        "df_test = spark.read.option('inferSchema', 'true').csv('PlaneDelayTesting.csv', header=True)\n",
        "\n",
        "# preprocessing\n",
        "df_train = df_train.na.drop()\n",
        "df_test = df_test.na.drop()\n",
        "\n",
        "# select feature\n",
        "df_train = df_train.select('TimeDeparture', 'LengthOfFlight', 'Airline', 'IsDelayed')\n",
        "df_test = df_test.select('TimeDeparture', 'LengthOfFlight', 'Airline', 'IsDelayed')\n",
        "\n",
        "# transform\n",
        "\n",
        "def transform(df):\n",
        "    df = df.withColumn('Airline', when(df['Airline']=='DL', 0).when(df['Airline']=='FL',1).when(df['Airline']=='EV', 2))\n",
        "    return df\n",
        "\n",
        "df_train = transform(df_train)\n",
        "df_test = transform(df_test)\n",
        "\n",
        "# normalize\n",
        "cols = df_train.columns\n",
        "cols.remove('IsDelayed')\n",
        "\n",
        "assembler = VectorAssembler(inputCols=cols, outputCol='Features')\n",
        "scaler = StandardScaler(inputCol='Features', outputCol='ScaledFeatures')\n",
        "\n",
        "df_train = assembler.transform(df_train)\n",
        "df_train = scaler.fit(df_train).transform(df_train)\n",
        "\n",
        "df_test = assembler.transform(df_test)\n",
        "df_test = scaler.fit(df_test).transform(df_test)\n",
        "\n",
        "# generate model\n",
        "model = LogisticRegression(featuresCol='ScaledFeatures', labelCol='IsDelayed').fit(df_train)\n",
        "prediction = model.transform(df_test)\n",
        "\n",
        "# evaluate\n",
        "evaluator = BinaryClassificationEvaluator(labelCol='IsDelayed')\n",
        "accuracy = round(evaluator.evaluate(prediction)*100, 2)\n",
        "print(accuracy)"
      ],
      "metadata": {
        "id": "zxrbEqnvzQFy"
      },
      "execution_count": null,
      "outputs": []
    }
  ]
}